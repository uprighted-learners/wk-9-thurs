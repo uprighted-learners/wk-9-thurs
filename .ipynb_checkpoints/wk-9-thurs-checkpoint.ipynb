{
 "cells": [
  {
   "cell_type": "code",
   "execution_count": 9,
   "id": "7414cd8c-1bd3-4196-b721-48c67777534a",
   "metadata": {},
   "outputs": [
    {
     "name": "stdout",
     "output_type": "stream",
     "text": [
      "✅ Successfully loaded:\n",
      "   - 100 customers\n",
      "   - 60 products\n",
      "   - 150 sales transactions\n",
      "\n",
      "👀 First few rows of each dataset:\n",
      "\n",
      "Customers:\n",
      "   customer_id first_name last_name  age state  income registration_date  \\\n",
      "0            1       John     Smith   34    CA   75000        2022-01-15   \n",
      "1            2      Sarah   Johnson   28    NY   82000        2022-01-22   \n",
      "2            3    Michael     Brown   45    TX   95000        2022-02-03   \n",
      "\n",
      "                     email  \n",
      "0     john.smith@email.com  \n",
      "1  sarah.johnson@email.com  \n",
      "2  michael.brown@email.com  \n",
      "\n",
      "Products:\n",
      "   product_id                   product_name       category  price  \\\n",
      "0           1  Wireless Bluetooth Headphones    Electronics  79.99   \n",
      "1           2         Organic Cotton T-Shirt       Clothing  24.99   \n",
      "2           3   Stainless Steel Water Bottle  Home & Garden  19.99   \n",
      "\n",
      "  launch_date      brand  \n",
      "0  2021-03-15  AudioTech  \n",
      "1  2021-04-20    EcoWear  \n",
      "2  2021-05-10  HydroLife  \n",
      "\n",
      "Sales:\n",
      "   sale_id  customer_id  product_id     transaction_date  quantity  \\\n",
      "0        1            1           1  2022-02-10 14:30:00         1   \n",
      "1        2            2           3  2022-02-15 10:15:00         2   \n",
      "2        3            3           5  2022-02-20 16:45:00         1   \n",
      "\n",
      "   total_amount  \n",
      "0         79.99  \n",
      "1         39.98  \n",
      "2         34.99  \n"
     ]
    }
   ],
   "source": [
    "# Import required libraries\n",
    "import pandas as pd  # Main library for data manipulation and analysis\n",
    "# Load the three datasets using pd.read_csv()\n",
    "# This function reads CSV files and converts them into pandas DataFrames\n",
    "customers = pd.read_csv('YOUR_FILE_PATH')\n",
    "products = pd.read_csv('YOUR_FILE_PATH')\n",
    "sales = pd.read_csv('YOUR_FILE_PATH')\n",
    "# Display basic information about what we've loaded\n",
    "# len() gives us the number of rows in each DataFrame\n",
    "print(f\"✅ Successfully loaded:\")\n",
    "print(f\"   - {len(customers)} customers\")      # Total number of customer records\n",
    "print(f\"   - {len(products)} products\")        # Total number of products in catalog\n",
    "print(f\"   - {len(sales)} sales transactions\") # Total number of sales transactions\n",
    "\n",
    "# Display the first few rows of each dataset to understand the structure\n",
    "# .head(n) shows the first n rows of a DataFrame - useful for data exploration\n",
    "print(f\"\\n👀 First few rows of each dataset:\")\n",
    "print(f\"\\nCustomers:\")\n",
    "print(customers.head(3))  # Show first 3 rows of customer data\n",
    "print(f\"\\nProducts:\")\n",
    "print(products.head(3))   # Show first 3 rows of product data\n",
    "print(f\"\\nSales:\")\n",
    "print(sales.head(3))      # Show first 3 rows of sales data\n"
   ]
  },
  {
   "cell_type": "code",
   "execution_count": 10,
   "id": "04deb793-60f4-4a33-8959-f49973522e0f",
   "metadata": {},
   "outputs": [
    {
     "name": "stdout",
     "output_type": "stream",
     "text": [
      "\n",
      "============================================================\n",
      "PART 1: DATETIME OPERATIONS\n",
      "============================================================\n",
      "\n",
      "🕐 1.1 Converting and Working with Dates\n",
      "Converting date columns to datetime...\n",
      "✅ All date columns converted successfully\n"
     ]
    }
   ],
   "source": [
    "# =============================================================================\n",
    "# PART 1: DATETIME OPERATIONS\n",
    "# =============================================================================\n",
    "# DateTime operations are crucial for time-based analysis in business data\n",
    "# We'll convert text dates to proper datetime objects and extract useful components\n",
    "\n",
    "print(\"\\n\" + \"=\" * 60)\n",
    "print(\"PART 1: DATETIME OPERATIONS\")\n",
    "print(\"=\" * 60)\n",
    "\n",
    "print(\"\\n🕐 1.1 Converting and Working with Dates\")\n",
    "\n",
    "# Convert date columns from strings to pandas datetime objects\n",
    "# pd.to_datetime() is the main function for converting various date formats\n",
    "# Once converted, we can perform date arithmetic and extract components\n",
    "print(\"Converting date columns to datetime...\")\n",
    "customers['registration_date'] = pd.to_datetime(customers['registration_date'])\n",
    "products['launch_date'] = pd.to_datetime(products['launch_date'])\n",
    "sales['transaction_date'] = pd.to_datetime(sales['transaction_date'])\n",
    "\n",
    "print(\"✅ All date columns converted successfully\")"
   ]
  },
  {
   "cell_type": "code",
   "execution_count": 11,
   "id": "8e72014e-88d6-4cd1-b21a-4a6db51f3d22",
   "metadata": {},
   "outputs": [
    {
     "name": "stdout",
     "output_type": "stream",
     "text": [
      "\n",
      "Extracting datetime components...\n",
      "✅ Extracted: year, month, day of week, and day name\n"
     ]
    }
   ],
   "source": [
    "# Extract useful components from datetime objects using the .dt accessor\n",
    "# The .dt accessor gives us access to datetime-specific methods and properties\n",
    "print(\"\\nExtracting datetime components...\")\n",
    "sales['year'] = sales['transaction_date'].dt.year           # Extract year (2022, 2023, etc.)\n",
    "sales['month'] = sales['transaction_date'].dt.month         # Extract month number (1-12)\n",
    "sales['day_of_week'] = sales['transaction_date'].dt.dayofweek  # Day of week (Monday=0, Sunday=6)\n",
    "sales['day_name'] = sales['transaction_date'].dt.day_name()    # Day name as text (Monday, Tuesday, etc.)\n",
    "print(\"✅ Extracted: year, month, day of week, and day name\")"
   ]
  },
  {
   "cell_type": "code",
   "execution_count": 12,
   "id": "9543cb6d-2329-4812-91ff-3976ad2cb879",
   "metadata": {},
   "outputs": [
    {
     "name": "stdout",
     "output_type": "stream",
     "text": [
      "\n",
      "📅 Sales data date range:\n",
      "   Earliest sale: February 10, 2022\n",
      "   Latest sale: March 05, 2024\n",
      "   Total days: 753 days\n",
      "\n",
      "🔍 1.2 Basic Time Analysis\n"
     ]
    }
   ],
   "source": [
    "# Find the date range of our sales data by using min() and max()\n",
    "# This helps us understand the time span our analysis covers\n",
    "sales_start = sales['transaction_date'].min()  # Earliest transaction date\n",
    "sales_end = sales['transaction_date'].max()    # Latest transaction date\n",
    "print(f\"\\n📅 Sales data date range:\")\n",
    "print(f\"   Earliest sale: {sales_start.strftime('%B %d, %Y')}\")  # Format: January 15, 2022\n",
    "print(f\"   Latest sale: {sales_end.strftime('%B %d, %Y')}\")      # Format: March 05, 2024\n",
    "print(f\"   Total days: {(sales_end - sales_start).days} days\")   # Calculate difference in days\n",
    "\n",
    "print(\"\\n🔍 1.2 Basic Time Analysis\")\n"
   ]
  },
  {
   "cell_type": "code",
   "execution_count": 14,
   "id": "6e441b49-7743-4ee6-8e14-b7ee51d890c6",
   "metadata": {},
   "outputs": [
    {
     "name": "stdout",
     "output_type": "stream",
     "text": [
      "Busiest day of the week: Friday (24 transactions)\n",
      "\n",
      "All days ranked by transaction count:\n",
      "   Friday: 24 transactions\n",
      "   Tuesday: 22 transactions\n",
      "   Thursday: 21 transactions\n",
      "   Sunday: 21 transactions\n",
      "   Saturday: 21 transactions\n",
      "   Wednesday: 21 transactions\n",
      "   Monday: 20 transactions\n"
     ]
    }
   ],
   "source": [
    "# Find the busiest day of the week by counting transactions\n",
    "# .value_counts() counts occurrences of each unique value\n",
    "day_counts = sales['day_name'].value_counts()  # Count transactions for each day name\n",
    "busiest_day = day_counts.index[0]             # Get the day with most transactions (first in sorted list)\n",
    "busiest_count = day_counts.iloc[0]            # Get the count for that day\n",
    "print(f\"Busiest day of the week: {busiest_day} ({busiest_count} transactions)\")\n",
    "\n",
    "# Display all days ranked by transaction count for complete picture\n",
    "print(f\"\\nAll days ranked by transaction count:\")\n",
    "for day, count in day_counts.items():  # Iterate through day names and their counts\n",
    "    print(f\"   {day}: {count} transactions\")"
   ]
  },
  {
   "cell_type": "code",
   "execution_count": 16,
   "id": "f768cd87-a1ef-49fb-b6ea-3f5019577483",
   "metadata": {},
   "outputs": [
    {
     "name": "stdout",
     "output_type": "stream",
     "text": [
      "\n",
      "Busiest month: February (16 transactions)\n"
     ]
    }
   ],
   "source": [
    "# Find the month with the most transactions\n",
    "month_counts = sales['month'].value_counts().sort_index()  # Count by month, then sort by month number\n",
    "busiest_month_num = sales['month'].value_counts().idxmax()  # Get month number with highest count\n",
    "busiest_month_count = sales['month'].value_counts().max()   # Get the actual count\n",
    "\n",
    "# Create a dictionary to convert month numbers to readable names\n",
    "# This makes our output more user-friendly\n",
    "month_names = {1: 'January', 2: 'February', 3: 'March', 4: 'April', 5: 'May', 6: 'June',\n",
    "               7: 'July', 8: 'August', 9: 'September', 10: 'October', 11: 'November', 12: 'December'}\n",
    "\n",
    "print(f\"\\nBusiest month: {month_names[busiest_month_num]} ({busiest_month_count} transactions)\")\n"
   ]
  },
  {
   "cell_type": "code",
   "execution_count": 17,
   "id": "96ab9e8f-b971-468b-86ad-bc198a014625",
   "metadata": {},
   "outputs": [
    {
     "name": "stdout",
     "output_type": "stream",
     "text": [
      "\n",
      "Transactions by month:\n",
      "   January: 10 transactions\n",
      "   February: 16 transactions\n",
      "   March: 14 transactions\n",
      "   April: 12 transactions\n",
      "   May: 12 transactions\n",
      "   June: 12 transactions\n",
      "   July: 12 transactions\n",
      "   August: 12 transactions\n",
      "   September: 12 transactions\n",
      "   October: 12 transactions\n",
      "   November: 12 transactions\n",
      "   December: 14 transactions\n"
     ]
    }
   ],
   "source": [
    "print(f\"\\nTransactions by month:\")\n",
    "for month_num, count in month_counts.items():              # Iterate through months and counts\n",
    "    print(f\"   {month_names[month_num]}: {count} transactions\")  # Use month names instead of numbers\n"
   ]
  },
  {
   "cell_type": "code",
   "execution_count": 18,
   "id": "6286902f-2b54-49d9-a8f2-5b9625a7f47f",
   "metadata": {},
   "outputs": [
    {
     "name": "stdout",
     "output_type": "stream",
     "text": [
      "\n",
      "Sales by year:\n",
      "   2022: 65 transactions\n",
      "   2023: 72 transactions\n",
      "   2024: 13 transactions\n"
     ]
    }
   ],
   "source": [
    "# Count sales by year to see yearly trends\n",
    "year_counts = sales['year'].value_counts().sort_index()    # Count transactions by year, sort chronologically\n",
    "print(f\"\\nSales by year:\")\n",
    "for year, count in year_counts.items():\n",
    "    print(f\"   {year}: {count} transactions\")\n"
   ]
  },
  {
   "cell_type": "code",
   "execution_count": 19,
   "id": "62d8f450-c9c7-45e2-8604-cf6143656cba",
   "metadata": {},
   "outputs": [
    {
     "name": "stdout",
     "output_type": "stream",
     "text": [
      "\n",
      "Sales by year:\n",
      "   2022: 65 transactions\n",
      "   2023: 72 transactions\n",
      "   2024: 13 transactions\n"
     ]
    }
   ],
   "source": [
    "# Count sales by year to see yearly trends\n",
    "year_counts = sales['year'].value_counts().sort_index()    # Count transactions by year, sort chronologically\n",
    "print(f\"\\nSales by year:\")\n",
    "for year, count in year_counts.items():\n",
    "    print(f\"   {year}: {count} transactions\")\n"
   ]
  },
  {
   "cell_type": "code",
   "execution_count": 20,
   "id": "d16296f6-2fe5-464a-98d4-0b0cd77e1616",
   "metadata": {},
   "outputs": [
    {
     "name": "stdout",
     "output_type": "stream",
     "text": [
      "\n",
      "============================================================\n",
      "PART 2: GROUPBY AND AGGREGATION\n",
      "============================================================\n",
      "\n",
      "🛍️ 2.1 Product Analysis\n"
     ]
    }
   ],
   "source": [
    "# =============================================================================\n",
    "# PART 2: GROUPBY AND AGGREGATION\n",
    "# =============================================================================\n",
    "# GroupBy operations allow us to split data into groups and perform calculations\n",
    "# on each group separately. This is essential for analyzing patterns and trends.\n",
    "\n",
    "print(\"\\n\" + \"=\" * 60)\n",
    "print(\"PART 2: GROUPBY AND AGGREGATION\")\n",
    "print(\"=\" * 60)\n",
    "\n",
    "print(\"\\n🛍️ 2.1 Product Analysis\")"
   ]
  },
  {
   "cell_type": "code",
   "execution_count": 21,
   "id": "3cd5f291-6fdd-48b1-99d6-390d592b7c43",
   "metadata": {},
   "outputs": [
    {
     "name": "stdout",
     "output_type": "stream",
     "text": [
      "Average price by product category:\n",
      "   Sports & Outdoors: $105.9\n",
      "   Electronics: $59.99\n",
      "   Clothing: $52.24\n",
      "   Accessories: $35.07\n",
      "   Home & Garden: $30.16\n"
     ]
    }
   ],
   "source": [
    "# Group products by category and calculate average price for each category\n",
    "# .groupby() splits the data into groups based on the 'category' column\n",
    "# .mean() calculates the average for each group\n",
    "# .round(2) rounds to 2 decimal places for currency formatting\n",
    "# .sort_values(ascending=False) sorts from highest to lowest price\n",
    "category_avg_price = products.groupby('category')['price'].mean().round(2).sort_values(ascending=False)\n",
    "print(\"Average price by product category:\")\n",
    "for category, avg_price in category_avg_price.items():  # Loop through each category and its average price\n",
    "    print(f\"   {category}: ${avg_price}\")               # Format with dollar sign"
   ]
  },
  {
   "cell_type": "code",
   "execution_count": 22,
   "id": "cef5aaa5-a210-4998-be12-4b7b1896e0b0",
   "metadata": {},
   "outputs": [
    {
     "name": "stdout",
     "output_type": "stream",
     "text": [
      "\n",
      "Number of products in each category:\n",
      "   Electronics: 13 products\n",
      "   Clothing: 12 products\n",
      "   Home & Garden: 12 products\n",
      "   Accessories: 12 products\n",
      "   Sports & Outdoors: 11 products\n"
     ]
    }
   ],
   "source": [
    "# Count how many products exist in each category\n",
    "# .value_counts() counts occurrences of each unique category\n",
    "category_counts = products['category'].value_counts()\n",
    "print(f\"\\nNumber of products in each category:\")\n",
    "for category, count in category_counts.items():\n",
    "    print(f\"   {category}: {count} products\")\n"
   ]
  },
  {
   "cell_type": "code",
   "execution_count": 23,
   "id": "031b47a5-79e7-4162-8655-8a7e4e4d17c6",
   "metadata": {},
   "outputs": [
    {
     "name": "stdout",
     "output_type": "stream",
     "text": [
      "Average customer age by state:\n",
      "   FL: 39.0 years\n",
      "   TX: 38.3 years\n",
      "   IL: 37.2 years\n",
      "   NY: 36.5 years\n",
      "   CA: 34.1 years\n"
     ]
    }
   ],
   "source": [
    "# Group customers by state and calculate average age\n",
    "# This shows us the demographic profile of customers in different regions\n",
    "state_avg_age = customers.groupby('state')['age'].mean().round(1).sort_values(ascending=False)\n",
    "print(\"Average customer age by state:\")\n",
    "for state, avg_age in state_avg_age.items():\n",
    "    print(f\"   {state}: {avg_age} years\")"
   ]
  },
  {
   "cell_type": "code",
   "execution_count": 24,
   "id": "a8b4f705-d53c-4317-9910-b734f5dbe47f",
   "metadata": {},
   "outputs": [
    {
     "name": "stdout",
     "output_type": "stream",
     "text": [
      "\n",
      "Customer spending statistics:\n",
      "   Average spending per customer: $148.99\n",
      "   Highest spending customer: $379.97\n",
      "   Lowest spending customer: $12.99\n"
     ]
    }
   ],
   "source": [
    "# Calculate total spending per customer (Customer Lifetime Value)\n",
    "# Group sales by customer_id and sum their total_amount for each customer\n",
    "# This gives us each customer's total spending across all their purchases\n",
    "customer_spending = sales.groupby('customer_id')['total_amount'].sum().sort_values(ascending=False)\n",
    "print(f\"\\nCustomer spending statistics:\")\n",
    "print(f\"   Average spending per customer: ${customer_spending.mean():.2f}\")  # Mean of all customer totals\n",
    "print(f\"   Highest spending customer: ${customer_spending.max():.2f}\")       # Maximum customer spending\n",
    "print(f\"   Lowest spending customer: ${customer_spending.min():.2f}\")        # Minimum customer spending"
   ]
  },
  {
   "cell_type": "code",
   "execution_count": 25,
   "id": "a57576fd-4762-473f-b241-c8c8001b6d6f",
   "metadata": {},
   "outputs": [
    {
     "name": "stdout",
     "output_type": "stream",
     "text": [
      "\n",
      "Customer with most purchases: Customer #1 (2 purchases)\n"
     ]
    }
   ],
   "source": [
    "# Find customers with the most purchases (transaction frequency)\n",
    "# .groupby().size() counts the number of transactions per customer\n",
    "# This is different from sum() - it counts rows, not values\n",
    "customer_purchase_counts = sales.groupby('customer_id').size().sort_values(ascending=False)\n",
    "top_buyer_id = customer_purchase_counts.index[0]        # Customer ID with most purchases\n",
    "top_buyer_purchases = customer_purchase_counts.iloc[0]  # Number of purchases by top customer\n",
    "print(f\"\\nCustomer with most purchases: Customer #{top_buyer_id} ({top_buyer_purchases} purchases)\")\n"
   ]
  },
  {
   "cell_type": "code",
   "execution_count": 26,
   "id": "041111c3-00e1-4f0d-aa81-9630f93535e4",
   "metadata": {},
   "outputs": [
    {
     "name": "stdout",
     "output_type": "stream",
     "text": [
      "\n",
      "Top 5 customers by number of purchases:\n",
      "   Customer #1: 2 purchases\n",
      "   Customer #32: 2 purchases\n",
      "   Customer #34: 2 purchases\n",
      "   Customer #35: 2 purchases\n",
      "   Customer #36: 2 purchases\n",
      "\n",
      "📈 2.3 Sales Analysis\n"
     ]
    }
   ],
   "source": [
    "# Show top 5 customers by number of purchases\n",
    "print(f\"\\nTop 5 customers by number of purchases:\")\n",
    "for customer_id, purchase_count in customer_purchase_counts.head().items():  # .head() gets top 5\n",
    "    print(f\"   Customer #{customer_id}: {purchase_count} purchases\")\n",
    "\n",
    "print(\"\\n📈 2.3 Sales Analysis\")"
   ]
  },
  {
   "cell_type": "code",
   "execution_count": 27,
   "id": "c03b0841-3f6a-465e-baf1-28133a7c18d3",
   "metadata": {},
   "outputs": [
    {
     "name": "stdout",
     "output_type": "stream",
     "text": [
      "Total revenue by month:\n",
      "   February: $1,669.66\n",
      "   December: $1,458.71\n",
      "   October: $1,235.80\n",
      "   May: $1,177.79\n",
      "   September: $1,150.76\n",
      "   March: $1,115.77\n",
      "   November: $1,022.76\n",
      "   June: $986.68\n",
      "   July: $930.80\n",
      "   April: $924.77\n",
      "   August: $870.74\n",
      "   January: $864.79\n"
     ]
    }
   ],
   "source": [
    "# Calculate total sales revenue by month\n",
    "# Group sales by month and sum the total_amount for each month\n",
    "monthly_revenue = sales.groupby('month')['total_amount'].sum().sort_values(ascending=False)\n",
    "print(\"Total revenue by month:\")\n",
    "for month_num, revenue in monthly_revenue.items():\n",
    "    print(f\"   {month_names[month_num]}: ${revenue:,.2f}\")  # :,.2f formats with commas and 2 decimals\n"
   ]
  },
  {
   "cell_type": "code",
   "execution_count": 29,
   "id": "aa4ee298-eb68-4f1b-b999-2bb6fad350f5",
   "metadata": {},
   "outputs": [
    {
     "name": "stdout",
     "output_type": "stream",
     "text": [
      "\n",
      "Average transaction amount by day of week:\n",
      "   Monday: $90.93\n",
      "   Tuesday: $74.03\n",
      "   Wednesday: $96.07\n",
      "   Thursday: $102.27\n",
      "   Friday: $100.94\n",
      "   Saturday: $61.12\n",
      "   Sunday: $99.55\n"
     ]
    }
   ],
   "source": [
    "# Calculate average transaction amount by day of week\n",
    "# This shows us if people spend more on certain days\n",
    "daily_avg_amount = sales.groupby('day_name')['total_amount'].mean().round(2)\n",
    "# Reorder by actual day order (Monday first) instead of alphabetical\n",
    "day_order = ['Monday', 'Tuesday', 'Wednesday', 'Thursday', 'Friday', 'Saturday', 'Sunday']\n",
    "daily_avg_amount = daily_avg_amount.reindex(day_order)  # Reorder according to day_order list\n",
    "print(f\"\\nAverage transaction amount by day of week:\")\n",
    "for day, avg_amount in daily_avg_amount.items():\n",
    "    print(f\"   {day}: ${avg_amount}\")"
   ]
  },
  {
   "cell_type": "code",
   "execution_count": null,
   "id": "1089b23b-bf74-4ec7-814e-d3646647158c",
   "metadata": {},
   "outputs": [],
   "source": []
  }
 ],
 "metadata": {
  "kernelspec": {
   "display_name": "Python [conda env:base] *",
   "language": "python",
   "name": "conda-base-py"
  },
  "language_info": {
   "codemirror_mode": {
    "name": "ipython",
    "version": 3
   },
   "file_extension": ".py",
   "mimetype": "text/x-python",
   "name": "python",
   "nbconvert_exporter": "python",
   "pygments_lexer": "ipython3",
   "version": "3.12.7"
  }
 },
 "nbformat": 4,
 "nbformat_minor": 5
}
